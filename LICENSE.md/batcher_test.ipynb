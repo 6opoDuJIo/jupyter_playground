#https://neerc.ifmo.ru/wiki/index.php?title=%D0%A1%D0%B5%D1%82%D1%8C_%D0%91%D0%B5%D1%82%D1%87%D0%B5%D1%80%D0%B0
import matplotlib.pyplot as plt
import numpy as np
from matplotlib.lines import Line2D  

__input_count = 8
comparator_list = []

def build_half_filter(input_count, offset = 0):
    for i in range(0, input_count // 2):
           comparator_list.append((i + offset, i + offset + input_count // 2))
    
def draw():
    fig = plt.figure()
    ax = fig.add_subplot(111)
    
    for i in range(0, __input_count):
        x = np.array([0, len(comparator_list)-1])
        y = np.array([i, i])
        line = Line2D(x, y)
        ax.add_line(line)
    
    for i in range(0, len(comparator_list)):
        x = np.array([i, i])
        y = np.array(comparator_list[i])
        line = Line2D(x, y, marker="o") 
        ax.add_line(line)
    
    ax.set_xlim(-1, len(comparator_list))
    ax.set_ylim(-1, __input_count + 1)
    plt.show()


build_half_filter(__input_count)

def build_full_filter(_input_count, offset = 0):
    __ic = _input_count // 2
    
    for ii in [0, __ic]:
        build_half_filter( __ic, ii + offset)
        
    for ii in [0, __ic]:
        if __ic > 1:
                build_full_filter(__ic, ii)

    #if __ic > 1:
        #build_full_filter(__ic)

"""--build_half_filter(__input_count // 2, 0)
build_half_filter(__input_count // 2, __input_count // 2)

build_half_filter(__input_count // 4, 0)
build_half_filter(__input_count // 4, __input_count // 4)
build_half_filter(__input_count // 4, __input_count // 4 * 2)
build_half_filter(__input_count // 4, __input_count // 4 * 3)--#
"""
build_full_filter(__input_count)

draw()
