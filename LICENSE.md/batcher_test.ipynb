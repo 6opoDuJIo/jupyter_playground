#https://neerc.ifmo.ru/wiki/index.php?title=%D0%A1%D0%B5%D1%82%D1%8C_%D0%91%D0%B5%D1%82%D1%87%D0%B5%D1%80%D0%B0
#http://www.iti.fh-flensburg.de/lang/algorithmen/sortieren/bitonic/oddn.htm
import matplotlib.pyplot as plt
import numpy as np
from matplotlib.lines import Line2D  

__input_count = 8
comparator_list = []

def build_half_filter(input_count, offset = 0):
    for i in range(0, input_count // 2):
           comparator_list.append((i + offset, i + offset + input_count // 2))
    
def draw():
    fig = plt.figure()
    ax = fig.add_subplot(111)
    fig.set_figheight(20)
    fig.set_figwidth(20)
    
    
    for i in range(0, __input_count):
        x = np.array([0, len(comparator_list)-1])
        y = np.array([i, i])
        line = Line2D(x, y)
        ax.add_line(line)
    
    for i in range(0, len(comparator_list)):
        x = np.array([i, i])
        y = np.array(comparator_list[i])
        line = Line2D(x, y, marker="o") 
        ax.add_line(line)
    ax.set_xlim(-1, len(comparator_list))
    ax.set_ylim(-1, __input_count + 1)
    plt.gca().invert_yaxis()
    plt.show()

def build_filter_of_section_count(input_count, section_count):
    inputs_per_section = input_count // section_count
    
    for section_number in range(0, section_count):
        build_half_filter(inputs_per_section, section_number * inputs_per_section)

"""    
build_half_filter(__input_count // 2, 0)
build_half_filter(__input_count // 2, __input_count // 2)

build_half_filter(__input_count // 4, __input_count // 4 * 0)
build_half_filter(__input_count // 4, __input_count // 4 * 1)
build_half_filter(__input_count // 4, __input_count // 4 * 2)
build_half_filter(__input_count // 4, __input_count // 4 * 3)
""" 
build_filter_of_section_count(__input_count, 1)
build_filter_of_section_count(__input_count, 2)
build_filter_of_section_count(__input_count, 4)
draw()
